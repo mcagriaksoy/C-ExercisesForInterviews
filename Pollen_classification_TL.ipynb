{
  "nbformat": 4,
  "nbformat_minor": 0,
  "metadata": {
    "colab": {
      "provenance": [],
      "gpuType": "T4",
      "authorship_tag": "ABX9TyPFvDAEGgljC3wMMOVpllGm",
      "include_colab_link": true
    },
    "kernelspec": {
      "name": "python3",
      "display_name": "Python 3"
    },
    "language_info": {
      "name": "python"
    },
    "accelerator": "GPU"
  },
  "cells": [
    {
      "cell_type": "markdown",
      "metadata": {
        "id": "view-in-github",
        "colab_type": "text"
      },
      "source": [
        "<a href=\"https://colab.research.google.com/github/mcagriaksoy/C-ExercisesForInterviews/blob/main/Pollen_classification_TL.ipynb\" target=\"_parent\"><img src=\"https://colab.research.google.com/assets/colab-badge.svg\" alt=\"Open In Colab\"/></a>"
      ]
    },
    {
      "cell_type": "code",
      "execution_count": 1,
      "metadata": {
        "id": "6_nwaEPTiUG5"
      },
      "outputs": [],
      "source": [
        "#Mehmet Cagri Aksoy . 2024\n",
        "#github.com/mcagriaksoy"
      ]
    },
    {
      "cell_type": "code",
      "source": [
        "from google.colab import drive\n",
        "drive.mount('/content/drive/')"
      ],
      "metadata": {
        "id": "99_Goru3i-Yl",
        "colab": {
          "base_uri": "https://localhost:8080/"
        },
        "outputId": "bd2f1f05-43e2-4342-888f-7f097e810aa9"
      },
      "execution_count": 2,
      "outputs": [
        {
          "output_type": "stream",
          "name": "stdout",
          "text": [
            "Mounted at /content/drive/\n"
          ]
        }
      ]
    },
    {
      "cell_type": "code",
      "source": [
        "!unzip /content/drive/MyDrive/Datasets/Pollen/Pollen_Dataset.zip"
      ],
      "metadata": {
        "id": "sScpnDCXkyjZ"
      },
      "execution_count": null,
      "outputs": []
    },
    {
      "cell_type": "code",
      "source": [
        "CLASS_NUMBER = 97\n",
        "channels = 3\n",
        "img_height = 128\n",
        "img_width = 128\n",
        "epochs = 100\n",
        "batch_size = 16\n",
        "\n",
        "input_shape = (img_height,img_width,channels)"
      ],
      "metadata": {
        "id": "5oCZiGIZi_f5"
      },
      "execution_count": 4,
      "outputs": []
    },
    {
      "cell_type": "code",
      "source": [
        "import numpy as np\n",
        "import matplotlib.pyplot as plt\n",
        "import tensorflow as tf\n",
        "# We'll build the CNN as a sequence of layers.\n",
        "from tensorflow.keras import layers\n",
        "from tensorflow.keras.models import Sequential\n",
        "from tensorflow.keras.layers import Conv2D, MaxPooling2D, Dense, Dropout, Flatten, BatchNormalization\n",
        "# Libraries to handle the data\n",
        "import json\n",
        "from PIL import Image # PIL = Python Image Library\n",
        "from skimage.transform import resize\n",
        "from tensorflow.keras import Model\n",
        "from tensorflow.keras.layers import Dense, Dropout, GlobalAveragePooling2D"
      ],
      "metadata": {
        "id": "3RMyb4U4jIgS"
      },
      "execution_count": 5,
      "outputs": []
    },
    {
      "cell_type": "markdown",
      "source": [],
      "metadata": {
        "id": "G29QsTt_jKxR"
      }
    },
    {
      "cell_type": "code",
      "source": [
        "img_augmented = tf.keras.preprocessing.image.ImageDataGenerator(\n",
        "    rescale=1./255,\n",
        "    horizontal_flip=True,\n",
        "    vertical_flip=True,\n",
        "    height_shift_range=0.1,\n",
        "    width_shift_range=0.1,\n",
        "    brightness_range=(0.8,1.2),\n",
        "    zoom_range = [1, 1.2],\n",
        "    validation_split=0.2\n",
        ")\n",
        "\n",
        "dir = '/content/Pollen_Dataset/train'\n",
        "\n",
        "train_dataset = img_augmented.flow_from_directory(batch_size=batch_size,\n",
        "                                                 directory=dir,\n",
        "                                                 shuffle=False,\n",
        "                                                 target_size=(img_height,img_width),\n",
        "                                                 subset=\"training\",\n",
        "                                                 class_mode='categorical')\n",
        "\n",
        "validation_dataset = img_augmented.flow_from_directory(batch_size=batch_size,\n",
        "                                                 directory=dir,\n",
        "                                                 shuffle=False,\n",
        "                                                 target_size=(img_height,img_width),\n",
        "                                                 subset=\"validation\",\n",
        "                                                 class_mode='categorical')\n"
      ],
      "metadata": {
        "colab": {
          "base_uri": "https://localhost:8080/"
        },
        "id": "cCIeFMoHnvBH",
        "outputId": "9b475320-defa-4f4b-a8a5-c12801540602"
      },
      "execution_count": 7,
      "outputs": [
        {
          "output_type": "stream",
          "name": "stdout",
          "text": [
            "Found 5937 images belonging to 97 classes.\n",
            "Found 1471 images belonging to 97 classes.\n"
          ]
        }
      ]
    },
    {
      "cell_type": "code",
      "source": [
        "train_classes = train_dataset.classes"
      ],
      "metadata": {
        "id": "BysLQsLhAP1v"
      },
      "execution_count": 8,
      "outputs": []
    },
    {
      "cell_type": "code",
      "source": [
        "from sklearn.utils.class_weight import compute_class_weight\n",
        "class_weights = compute_class_weight(\n",
        "                                        class_weight = \"balanced\",\n",
        "                                        classes = np.unique(train_classes),\n",
        "                                        y = train_classes\n",
        "                                    )\n",
        "class_weights = dict(zip(np.unique(train_classes), class_weights))"
      ],
      "metadata": {
        "id": "rPEc9bNz_fQO"
      },
      "execution_count": 9,
      "outputs": []
    },
    {
      "cell_type": "code",
      "source": [
        "from collections import Counter\n",
        "counter = Counter(train_dataset.classes)\n",
        "\n",
        "plt.figure(figsize = (6,3))\n",
        "plt.title('Class Counts in Dataset')\n",
        "plt.bar(*zip(*counter.items()))\n",
        "plt.xticks(rotation='vertical')\n",
        "plt.show()"
      ],
      "metadata": {
        "id": "9WtXb8qgvCgB",
        "colab": {
          "base_uri": "https://localhost:8080/",
          "height": 326
        },
        "outputId": "ce2a99f9-646a-48b5-aea2-a42a2140fc7c"
      },
      "execution_count": 10,
      "outputs": [
        {
          "output_type": "display_data",
          "data": {
            "text/plain": [
              "<Figure size 600x300 with 1 Axes>"
            ],
            "image/png": "[encoded data removed]"
          },
          "metadata": {}
        }
      ]
    },
    {
      "cell_type": "code",
      "source": [
        "base_model = tf.keras.applications.EfficientNetV2B2(input_shape = input_shape, include_top = False, weights = \"imagenet\")\n",
        "base_model.trainable = False\n",
        "model = tf.keras.Sequential([base_model,\n",
        "                             tf.keras.layers.GlobalAveragePooling2D(),\n",
        "                             tf.keras.layers.Dropout(0.05),\n",
        "                             tf.keras.layers.Dense(CLASS_NUMBER, activation=\"softmax\")\n",
        "                            ])\n",
        "model.summary()"
      ],
      "metadata": {
        "colab": {
          "base_uri": "https://localhost:8080/"
        },
        "id": "LiVqbVmJnCXd",
        "outputId": "4882ea9c-380b-4562-d60e-d6fd4a5f9a9d"
      },
      "execution_count": 11,
      "outputs": [
        {
          "output_type": "stream",
          "name": "stdout",
          "text": [
            "Downloading data from https://storage.googleapis.com/tensorflow/keras-applications/efficientnet_v2/efficientnetv2-b2_notop.h5\n",
            "35839040/35839040 [==============================] - 0s 0us/step\n",
            "Model: \"sequential\"\n",
            "_________________________________________________________________\n",
            " Layer (type)                Output Shape              Param #   \n",
            "=================================================================\n",
            " efficientnetv2-b2 (Functio  (None, 4, 4, 1408)        8769374   \n",
            " nal)                                                            \n",
            "                                                                 \n",
            " global_average_pooling2d (  (None, 1408)              0         \n",
            " GlobalAveragePooling2D)                                         \n",
            "                                                                 \n",
            " dropout (Dropout)           (None, 1408)              0         \n",
            "                                                                 \n",
            " dense (Dense)               (None, 97)                136673    \n",
            "                                                                 \n",
            "=================================================================\n",
            "Total params: 8906047 (33.97 MB)\n",
            "Trainable params: 136673 (533.88 KB)\n",
            "Non-trainable params: 8769374 (33.45 MB)\n",
            "_________________________________________________________________\n"
          ]
        }
      ]
    },
    {
      "cell_type": "code",
      "source": [
        "model.compile(optimizer=\"Adam\", loss='categorical_crossentropy', metrics=['accuracy'])"
      ],
      "metadata": {
        "id": "965zHYUUpmfe"
      },
      "execution_count": 12,
      "outputs": []
    },
    {
      "cell_type": "code",
      "source": [
        "from keras.callbacks import ModelCheckpoint, EarlyStopping\n",
        "\n",
        "model_path = 'efficientnet_best.h5'\n",
        "callback = [EarlyStopping(monitor ='val_loss', patience = 2),\n",
        "             ModelCheckpoint(filepath = model_path, save_best_only = True, mode='min', verbose=1)]"
      ],
      "metadata": {
        "id": "5bd_Qe1jqZh8"
      },
      "execution_count": 13,
      "outputs": []
    },
    {
      "cell_type": "code",
      "source": [
        "from keras.models import load_model\n",
        "\n",
        "#Reload model\n",
        "#model = load_model('best_model (4).h5')"
      ],
      "metadata": {
        "id": "HMzDzew2ZyWN"
      },
      "execution_count": null,
      "outputs": []
    },
    {
      "cell_type": "code",
      "source": [
        "model.fit(\n",
        "    train_dataset,\n",
        "    steps_per_epoch = train_dataset.samples // batch_size,\n",
        "    validation_data = validation_dataset,\n",
        "    validation_steps = validation_dataset.samples // batch_size,\n",
        "    epochs = 50,\n",
        "    class_weight = class_weights,\n",
        "    callbacks = callback\n",
        "    )"
      ],
      "metadata": {
        "colab": {
          "base_uri": "https://localhost:8080/"
        },
        "id": "jjKXhyYTo7-R",
        "outputId": "26795d60-63d5-4363-f71b-ae30b9e32f29"
      },
      "execution_count": null,
      "outputs": [
        {
          "output_type": "stream",
          "name": "stdout",
          "text": [
            "Epoch 1/50\n",
            "255/371 [===================>..........] - ETA: 1:04 - loss: 5.5663 - accuracy: 0.0084"
          ]
        }
      ]
    }
  ]
}